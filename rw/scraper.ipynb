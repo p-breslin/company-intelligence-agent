{
 "cells": [
  {
   "cell_type": "code",
   "execution_count": 1,
   "metadata": {},
   "outputs": [],
   "source": [
    "import hashlib\n",
    "import requests\n",
    "import feedparser\n",
    "from bs4 import BeautifulSoup"
   ]
  },
  {
   "cell_type": "code",
   "execution_count": 13,
   "metadata": {},
   "outputs": [],
   "source": [
    "def scrape_website(url):\n",
    "    \"\"\"Attempts to scrape article content from a website\"\"\"\n",
    "    headers = {'User-Agent': 'Mozilla/5.0'} #mimics web browser request\n",
    "    try:\n",
    "        response = requests.get(url, headers=headers, timeout=5)\n",
    "        if response.status_code != 200:\n",
    "            return None\n",
    "\n",
    "        # To-Do: generalize to any website\n",
    "        soup = BeautifulSoup(response.text, 'html.parser')\n",
    "        title = soup.title.string if soup.title else \"No Title\"\n",
    "        main_content = soup.find(\"article\") or soup.find(\"div\", class_=\"content\")\n",
    "        paragraphs = main_content.find_all(\"p\") if main_content else soup.find_all(\"p\")\n",
    "        content = \"\\n\".join([p.get_text() for p in paragraphs])\n",
    "\n",
    "        data = {\n",
    "            \"title\": title,\n",
    "            \"link\": url,\n",
    "            \"content\": content[:1000],  #limit preview to save disk space?\n",
    "        }\n",
    "        return data\n",
    "    except requests.RequestException as error:\n",
    "        print(f\"Error scraping {url}: {error}\")\n",
    "        return None"
   ]
  },
  {
   "cell_type": "code",
   "execution_count": 14,
   "metadata": {},
   "outputs": [],
   "source": [
    "site = \"https://techcrunch.com\"\n",
    "scraped_article = scrape_website(site)"
   ]
  },
  {
   "cell_type": "code",
   "execution_count": 15,
   "metadata": {},
   "outputs": [
    {
     "data": {
      "text/plain": [
       "{'title': 'TechCrunch | Startup and Technology News',\n",
       " 'link': 'https://techcrunch.com',\n",
       " 'content': '\\n\\n\\t\\tLatest\\t\\n\\n\\n\\n\\t\\tAI\\t\\n\\n\\n\\n\\t\\tAmazon\\t\\n\\n\\n\\n\\t\\tApps\\t\\n\\n\\n\\n\\t\\tBiotech & Health\\t\\n\\n\\n\\n\\t\\tClimate\\t\\n\\n\\n\\n\\t\\tCloud Computing\\t\\n\\n\\n\\n\\t\\tCommerce\\t\\n\\n\\n\\n\\t\\tCrypto\\t\\n\\n\\n\\n\\t\\tEnterprise\\t\\n\\n\\n\\n\\t\\tEVs\\t\\n\\n\\n\\n\\t\\tFintech\\t\\n\\n\\n\\n\\t\\tFundraising\\t\\n\\n\\n\\n\\t\\tGadgets\\t\\n\\n\\n\\n\\t\\tGaming\\t\\n\\n\\n\\n\\t\\tGoogle\\t\\n\\n\\n\\n\\t\\tGovernment & Policy\\t\\n\\n\\n\\n\\t\\tHardware\\t\\n\\n\\n\\n\\t\\tInstagram\\t\\n\\n\\n\\n\\t\\tLayoffs\\t\\n\\n\\n\\n\\t\\tMedia & Entertainment\\t\\n\\n\\n\\n\\t\\tMeta\\t\\n\\n\\n\\n\\t\\tMicrosoft\\t\\n\\n\\n\\n\\t\\tPrivacy\\t\\n\\n\\n\\n\\t\\tRobotics\\t\\n\\n\\n\\n\\t\\tSecurity\\t\\n\\n\\n\\n\\t\\tSocial\\t\\n\\n\\n\\n\\t\\tSpace\\t\\n\\n\\n\\n\\t\\tStartups\\t\\n\\n\\n\\n\\t\\tTikTok\\t\\n\\n\\n\\n\\t\\tTransportation\\t\\n\\n\\n\\n\\t\\tVenture\\t\\n\\n\\n\\n\\t\\tEvents\\t\\n\\n\\n\\n\\t\\tStartup Battlefield\\t\\n\\n\\n\\n\\t\\tStrictlyVC\\t\\n\\n\\n\\n\\t\\tNewsletters\\t\\n\\n\\n\\n\\t\\tPodcasts\\t\\n\\n\\n\\n\\t\\tVideos\\t\\n\\n\\n\\n\\t\\tPartner Content\\t\\n\\n\\n\\n\\t\\tTechCrunch Brand Studio\\t\\n\\n\\n\\n\\t\\tCrunchboard\\t\\n\\n\\n\\n\\t\\tContact Us\\t\\n\\nTop Headlines\\n OpenAI unveils a new ChatGPT agent for ‘deep research’\\n\\n Dub: the copy trading app that has teens talking\\n\\n AI systems with ‘unacceptable risk’ are now banned in the EU\\n\\n Senator warns of national security risks after Elon Musk’s DOGE granted ‘full access’ to sensitive Treasury systems\\n\\n X expands lawsuit'}"
      ]
     },
     "execution_count": 15,
     "metadata": {},
     "output_type": "execute_result"
    }
   ],
   "source": [
    "scraped_article"
   ]
  }
 ],
 "metadata": {
  "kernelspec": {
   "display_name": "cia",
   "language": "python",
   "name": "python3"
  },
  "language_info": {
   "codemirror_mode": {
    "name": "ipython",
    "version": 3
   },
   "file_extension": ".py",
   "mimetype": "text/x-python",
   "name": "python",
   "nbconvert_exporter": "python",
   "pygments_lexer": "ipython3",
   "version": "3.13.1"
  }
 },
 "nbformat": 4,
 "nbformat_minor": 2
}
