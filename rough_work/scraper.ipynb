{
 "cells": [
  {
   "cell_type": "code",
   "execution_count": 27,
   "metadata": {},
   "outputs": [],
   "source": [
    "import hashlib\n",
    "import requests\n",
    "import feedparser\n",
    "from bs4 import BeautifulSoup"
   ]
  },
  {
   "cell_type": "code",
   "execution_count": 28,
   "metadata": {},
   "outputs": [
    {
     "name": "stdout",
     "output_type": "stream",
     "text": [
      "dict_keys(['bozo', 'entries', 'feed', 'headers', 'etag', 'updated', 'updated_parsed', 'href', 'status', 'encoding', 'version', 'namespaces'])\n",
      "https://www.nasa.gov\n",
      "Official National Aeronautics and Space Administration Website\n"
     ]
    }
   ],
   "source": [
    "url = \"https://www.nasa.gov/rss/dyn/breaking_news.rss\"\n",
    "feed = feedparser.parse(url)\n",
    "print(feed.keys())\n",
    "print(feed.feed.link)\n",
    "print(feed.feed.description)"
   ]
  },
  {
   "cell_type": "code",
   "execution_count": 29,
   "metadata": {},
   "outputs": [
    {
     "name": "stdout",
     "output_type": "stream",
     "text": [
      "Entry Title: Combustor Facilities\n",
      "Entry Link: https://www.nasa.gov/centers-and-facilities/glenn/combustor-facilities/\n",
      "Entry Published Date: Mon, 03 Feb 2025 22:48:45 +0000\n",
      "Entry Summary: Sector Combustor Studies (CE-5B-1) Combustion stud\n",
      "\n",
      "\n",
      "Entry Title: NASA Awards Contract for Airborne Science Flight Services Support\n",
      "Entry Link: https://www.nasa.gov/centers-and-facilities/ames/nasa-awards-contract-for-airborne-science-flight-services-support/\n",
      "Entry Published Date: Mon, 03 Feb 2025 21:31:55 +0000\n",
      "Entry Summary: NASA has awarded Dynamic Aviation Group Inc. of Br\n",
      "\n",
      "\n",
      "Entry Title: NASA Presses Forward Search for VIPER Moon Rover Partner\n",
      "Entry Link: https://www.nasa.gov/news-release/nasa-presses-forward-search-for-viper-moon-rover-partner/\n",
      "Entry Published Date: Mon, 03 Feb 2025 21:22:57 +0000\n",
      "Entry Summary: To advance plans of securing a public/private part\n",
      "\n",
      "\n",
      "Entry Title: Station Science Top News: Jan. 31, 2025\n",
      "Entry Link: https://www.nasa.gov/missions/station-science-top-news-jan-31-2025/\n",
      "Entry Published Date: Mon, 03 Feb 2025 21:17:16 +0000\n",
      "Entry Summary: Seeds survive space Researchers found that plant s\n",
      "\n",
      "\n"
     ]
    }
   ],
   "source": [
    "for entry in feed.entries[:4]:\n",
    "    print(\"Entry Title:\", entry.title)\n",
    "    print(\"Entry Link:\", entry.link)\n",
    "    print(\"Entry Published Date:\", entry.published)\n",
    "    print(\"Entry Summary:\", entry.summary[:50])\n",
    "    print(\"\\n\")"
   ]
  },
  {
   "cell_type": "code",
   "execution_count": 30,
   "metadata": {},
   "outputs": [],
   "source": [
    "def is_full_content(entry):\n",
    "    \"\"\"Checks if an RSS entry contains the full article.\"\"\"\n",
    "    if hasattr(entry, \"content\"):\n",
    "        return True  # Likely full content\n",
    "    elif hasattr(entry, \"description\") and len(entry.description) < 300:\n",
    "        return False  # Short description → likely a summary\n",
    "    return False  # Assume it's a summary if no clear full content"
   ]
  },
  {
   "cell_type": "code",
   "execution_count": 31,
   "metadata": {},
   "outputs": [
    {
     "name": "stdout",
     "output_type": "stream",
     "text": [
      "True\n",
      "True\n",
      "True\n",
      "True\n",
      "True\n",
      "True\n",
      "True\n",
      "True\n",
      "True\n",
      "True\n"
     ]
    }
   ],
   "source": [
    "for entry in feed.entries:\n",
    "    print(is_full_content(entry))"
   ]
  },
  {
   "cell_type": "code",
   "execution_count": 46,
   "metadata": {},
   "outputs": [
    {
     "name": "stdout",
     "output_type": "stream",
     "text": [
      "9 min read Combustion studies are conducted in this two-test position facility specifically in support of the NOx-reduction research for the High Speed Research program and the Advanced Subsonic Technology program. CE-5B-1 is large enough to test sector arrangements of injector elements to include interactions of the elements and single larger elements. The facility receives filtered combustion air from the 450-psig system. The air is heated in a 1,100°F non-vitiated heater at flows up to 20 lb/s, which can be valved to either test stand. The airflow passes through the test section, is water spray quenched, and is then discharged to the altitude exhaust system or the atmospheric exhaust system. The facility preheater consists of a heat exchanger fired by four J-47 burner cans using natural gas for a fuel and the 40-psig combustion air. The research hardware uses ASTM Jet-A, JP-5, or JP-8 as a fuel. CE-5B-1 Special Features In addition to inlet and exit rakes and standard instrumentation, water-cooled gas sampling rakes are in the downstream section. Particulate measurements are taken at the exit of the combustion section. Optical accessibility of the combustor section allows never-before-possible nonintrusive laser-based diagnostics of the reacting and non-reacting flowfield. These include such techniques as planar laser-induced fluorescence (PLIF) imaging, Planar Mie scattering, Phase/Doppler particle analysis (PDPA), focused Schlieren imaging, and light sheet photography. Both rigs share the gas analysis, particulate analysis, and diagnostics equipment. CE-5B Facility Capabilities (typical of both rigs) CE-5B-1 System Instrumentation CE-5B-2 is one of the two test stands in the CE-5B facility. It can be configured to study lean-premixed-prevaporized (LPP) and lean-direct-injection (LDI) concepts for developing a low-NOx combustor for high-speed research and advanced subsonic applications. The non-windowed combustion flame tube can use a 3-inch square cross section or a 3-inch-diameter round section and has six ports available for gas sampling probes. The windowed combustion flame tube takes advantage of the flat walls on a 3-inch square cross section to install optical windows for non-intrusive measurements. Tests are conducted with combustion air inlet pressure ranging from 10 to 15 atmospheres with preheater and exhaust conditions described for CE-5B-1. CE-5B-2 Special Features The same laser-based non-intrusive diagnostics of reacting and non-reacting flowfields described for test position CE-5B-1 are available to this test section. A typical data acquisition system is used for both test positions in CE-5B. In addition, most of the optical diagnostic instruments have their own data acquisition systems. CE-5B Facility Capabilities (typical of both rigs) CE-5B-2 System Instrumentation Test Cell CE-13 Combustion and Dynamics Facility (CDF) is used to investigate ways to reduce NOx and particulate emissions from air-breathing aircraft engines. This low-pressure (1-5 atm) facility is used to study fuel-air injection schemes and how they affect fluid mixing, emissions, dynamics, and flame stability. Jet-A fuel is the primary fuel, but candidate alternate jet fuels and their effects are also studied. Standard measurements consist of major species and dynamic pressures. Some optical measurements available are high-speed video, standard and time-resolved 2D PIV, planar laser induced fluorescence (PLIF), and chemiluminescence imaging. CE-13C Special Features Research hardware is designed to flow vertically downwards. Preheated air is fed to the inlet air stream conditioner and then to the fuel injector. Fuel at room temperature is fed separately to the injector. The mixed hot air and fuel mixture moves to the combustor where combustion can be observed via customized windows. The products of combustion flow through an emission sampling ring and choke nozzle/straight outlet pipe. The fuel system consists of a 25-gallon fuel tank, a pump, and a GN2 purge. A separate laser room operates various class 3B and 4 lasers (UV, Vis, NIR) to characterize fuel injection, combustor flow, and measure combustion species. CE-13C Facility Capabilities CE-13C System Instrumentation The SE-5 High-Pressure Combustion Diagnostics (HPCD) laboratory is a gas- and liquid-fueled high-pressure flame tube facility with single-element fuel injection burners and emission sampling ports for advanced diagnostics development and national standard calibrations. The facility provides large-aperture optical access to the primary reaction zone (flame holding) through four UV-grade fused silica optical windows (44-mm-thick by 85-mm clear apertures located around the periphery) enabling non-intrusive optical diagnostics such as laser Raman spectroscopy or high-speed imaging to measure chemical species and temperature. The HPCD rig can operate at sustained pressures up to 30 atm (or 60 atm with limited flow rate) with a variety of gaseous fuels, liquid jet fuels, and oxidizers, including hydrogen, methane, oxygen-argon, and pure oxygen. The innovative microtube array burner or micro-radial-entry counter-swirl (MRX) burner is mounted inside the air-cooled high-temperature liner casing within the rig. The burner was designed to provide a uniform combustion product zone downstream of the flame for calibrating the laser diagnostic system. The facility is also used for bench-mark tests of emission gas and particulate matters (PM) sampling. The data from the HPCD rig enables the validation of numerical codes such as powered by advanced CFD that simulate gas turbine combustors. All aspects of the facility operation, including startup, shutdown, and automatic safety shutdowns, are controlled and monitored via an icon-based touch-screen software system and a most-updated programmable logic controller (PLC) in conjunction with a precision DEWETRON data acquisition system. The HPCD rig can also provide a pressure vessel for prototype thermal or combustion hardware of a customer’s choice. SE-5 Special Features The facility is unique because it is the only continuous-flow, hydrogen-capable 60-atm rig in the world with optical access. It will provide researchers with new insights into flame conditions that simulate the environment inside the ultra-high pressure-ratio combustion chambers of tomorrow’s advanced aircraft engines. SE-5 Facility Capabilities SE-5 System Instrumentation and Diagnostics The Particulate Aerosol Laboratory (PAL) studies aerosols at simulated upper atmospheric conditions with altitudes up to 55,000 feet at -135°F. Altitude chamber environment and burner settings are individually controlled, creating a multitude of test parameters and a dynamic testing environment. The PAL facility is designed around a small-scale jet exhaust nozzle and altitude chamber and takes full advantage of its reduced size for screening of various alternative fuels, additives, and other combustion concepts. This makes PAL the ideal facility for validating the advancement of such research to the next phase. Combustion fuel operation capabilities include alternative fuel additive mixing in real-time mode with switching between a baseline fuel and an alternative fuel while maintaining a continuous combustion flame. Heated bypass air is available with optional external burner and associated piping heating up to 1,000°F. Additionally, PAL is enhancing its cloud simulation capability with real-time atmospheric water vapor content readings and on-demand direct liquid injector vaporizers for high purity 100% fluid vaporization. SE-11 Special Features Particulate emission sample extraction taking at burner rear section. Chamber equipped with windows and fused silica lenses providing optical access for non-intrusive optical diagnostic Mie scattering and color video imaging. Particulate size and number density measurements are accomplished with absorption measurements and forward, back, and side scattering. Video capability of both burner flame and altitude chamber contrails. Optical measurement plane location relative to the chamber nozzle exit is adjustable. SE-11 Facility Capabilities NASA’s Glenn Research Center in Cleveland provides ground test facilities to industry, government, and academia. If you are considering testing in one of our facilities or would like further information about a specific facility or capability, please let us know. Missions Humans in Space Climate Change Solar System\n"
     ]
    }
   ],
   "source": [
    "import html\n",
    "import re\n",
    "\n",
    "\n",
    "def clean_rss_content(html_content):\n",
    "    \"\"\"Extracts meaningful text from RSS HTML while removing unnecessary elements.\"\"\"\n",
    "    \n",
    "    # Parse HTML\n",
    "    soup = BeautifulSoup(html_content, \"html.parser\")\n",
    "    \n",
    "    # Extract all paragraph content (p tags contain the actual text)\n",
    "    paragraphs = [p.get_text(separator=\" \", strip=True) for p in soup.find_all(\"p\")]\n",
    "    \n",
    "    # Join paragraphs into a single readable text block\n",
    "    text = \"\\n\\n\".join(paragraphs)  # Keeps paragraph breaks for readability\n",
    "\n",
    "    # Convert HTML entities (e.g., &nbsp; → space, &quot; → \")\n",
    "    text = html.unescape(text)\n",
    "\n",
    "    # Remove extra spaces, newlines, and multiple consecutive blank lines\n",
    "    text = re.sub(r\"\\s+\", \" \", text).strip()\n",
    "    text = re.sub(r\"\\n{2,}\", \"\\n\\n\", text)  # Preserve paragraph separation\n",
    "\n",
    "    return text\n",
    "\n",
    "raw = feed.entries[0].content[0].value  # Extract HTML from RSS entry\n",
    "clean = clean_rss_content(raw)\n",
    "\n",
    "print(clean)  # Now readable without HTML tags or artifacts"
   ]
  },
  {
   "cell_type": "code",
   "execution_count": null,
   "metadata": {},
   "outputs": [],
   "source": []
  },
  {
   "cell_type": "code",
   "execution_count": 63,
   "metadata": {},
   "outputs": [],
   "source": [
    "import time\n",
    "import hashlib\n",
    "import psycopg\n",
    "import requests\n",
    "from dateutil import parser\n",
    "from bs4 import BeautifulSoup\n",
    "from urllib.parse import urlparse, urljoin\n",
    "from urllib.robotparser import RobotFileParser\n",
    "\n",
    "class WebScraper:\n",
    "    def __init__(self, targets):\n",
    "        self.targets = targets\n",
    "\n",
    "    def permission_check(self, source):\n",
    "        \"\"\"Check robots.txt to determine if scraping is allowed.\"\"\"\n",
    "        \n",
    "        # Construct robots.txt URL\n",
    "        robots_url = urljoin(\"https://\"+source, \"/robots.txt\")\n",
    "        \n",
    "        # Initialize parser\n",
    "        rp = RobotFileParser()\n",
    "        \n",
    "        try:\n",
    "            rp.set_url(robots_url)\n",
    "            rp.read()  # Fetch and parse robots.txt\n",
    "        except Exception as e:\n",
    "            print(f\"Error fetching robots.txt: {e}\")\n",
    "            return True  # Assume scraping is allowed if robots.txt is inaccessible\n",
    "\n",
    "        # Check if we are allowed to scrape the homepage (change to any relevant path)\n",
    "        return rp.can_fetch(\"*\", source)\n",
    "    \n",
    "\n",
    "    def crawl_delay(self, source):\n",
    "        \"\"\"Fetch crawl delay from robots.txt if specified.\"\"\"\n",
    "        \n",
    "        robots_url = urljoin(\"https://\"+source, \"/robots.txt\")\n",
    "        rp = RobotFileParser()\n",
    "        \n",
    "        try:\n",
    "            rp.set_url(robots_url)\n",
    "            rp.read()\n",
    "            return rp.crawl_delay(\"*\") or 0  # Default to 0 if no delay is specified\n",
    "        except Exception as e:\n",
    "            print(f\"Error fetching robots.txt for crawl delay: {e}\")\n",
    "            return 0  # Assume no delay if robots.txt is inaccessible\n",
    "\n",
    "\n",
    "    def scrape(self):\n",
    "        \"\"\"Scrapes web pages.\"\"\"\n",
    "        articles = []\n",
    "        headers = {\"User-Agent\": \"Mozilla/5.0\"} # spoofs browser to avoid bot detection\n",
    "        \n",
    "        for url in self.targets:\n",
    "            source = urlparse(url).netloc\n",
    "\n",
    "            if not self.permission_check(source):\n",
    "                print(f\"Skipping {url} as per robots.txt\")\n",
    "                continue\n",
    "\n",
    "            # Get crawl delay\n",
    "            delay = self.crawl_delay(source)\n",
    "            if delay > 0:\n",
    "                print(f\"Respecting crawl delay of {delay} seconds...\")\n",
    "                time.sleep(delay)  # Respect the delay before scraping\n",
    "            try:\n",
    "                # Retrieve HTML content of the page\n",
    "                response = requests.get(url, headers=headers, timeout=10)\n",
    "                response.raise_for_status()\n",
    "            except requests.RequestException as e:\n",
    "                print(f\"Error fetching {url}: {e}\")\n",
    "                return None\n",
    "\n",
    "            # Parse the HTML content\n",
    "            soup = BeautifulSoup(response.text, 'html.parser')\n",
    "\n",
    "            # Extract title and main content\n",
    "            soupTitle = soup.find(\"title\")\n",
    "            title = soupTitle.text.strip() if soupTitle else \"No Title\"\n",
    "            soupContent = soup.find(\"article\")\n",
    "            content = soupContent.text.strip() if soupContent else \"Content not found\"\n",
    "\n",
    "            # Extract metadata: search for <meta> tag with property = the published date\n",
    "            date_meta = soup.find(\"meta\", {\"property\": \"article:published_time\"})\n",
    "            if date_meta and \"content\" in date_meta.attrs:\n",
    "                published = date_meta[\"content\"]\n",
    "                if published:\n",
    "                    try:\n",
    "                        published = parser.parse(published)\n",
    "                    except Exception as e:\n",
    "                        print(f\"Error parsing date '{published}': {e}\")\n",
    "                        published = None\n",
    "\n",
    "            # Compute hash for deduplication\n",
    "            hash = hashlib.md5((title + source).encode('utf-8')).hexdigest()\n",
    "\n",
    "            articles.append({\n",
    "                 \"title\": title,\n",
    "                 \"url\": url,\n",
    "                 \"content\": content,\n",
    "                 \"published\": published,\n",
    "                 \"source\": source, # Extract domain as source\n",
    "                 \"hash\": hash\n",
    "                 })\n",
    "\n",
    "        return articles"
   ]
  },
  {
   "cell_type": "code",
   "execution_count": 62,
   "metadata": {},
   "outputs": [
    {
     "name": "stdout",
     "output_type": "stream",
     "text": [
      "None\n",
      "None\n"
     ]
    }
   ],
   "source": [
    "targets = [\n",
    "    \"https://www.nasa.gov/news\",\n",
    "    \"https://www.nasa.gov/news\",\n",
    "    \"https://mail.google.com/mail/u/4/#inbox\"\n",
    "]\n",
    "\n",
    "scraper = WebScraper(targets)\n",
    "articles = scraper.scrape()"
   ]
  },
  {
   "cell_type": "code",
   "execution_count": 58,
   "metadata": {},
   "outputs": [
    {
     "data": {
      "text/plain": [
       "[{'title': 'NASA News',\n",
       "  'url': 'https://www.nasa.gov/news',\n",
       "  'content': \"News and EventsLatest NewsBlogsNewslettersSocial MediaBudgets and ReportsUpcoming LaunchesMoreMedia Contacts\\n\\n\\n\\n\\nNASA News\\n\\n\\n\\n\\n\\n\\n\\n\\n\\n\\n\\n\\n\\n\\n\\n\\n\\n\\n\\n\\n\\n\\n\\n\\n\\n \\n\\n\\nLatest News \\n\\n\\n\\n\\n\\t\\t\\t\\t2025 News Releases                \\t\\t\\t\\n\\n\\n\\n\\n News Release3 Min ReadNASA Presses Forward Search for VIPER Moon Rover Partner News Release3 Min ReadNASA to Talk Science, Tech Aboard Next Intuitive Machines Moon Flight News Release2 Min ReadNASA Invites Media to Discuss PUNCH Mission to Study Solar Wind News Release4 Min ReadNASA, Partners to Welcome Fourth Axiom Space Mission to Space Station \\n\\nSign up to receive NASA news releases and other information.\\n \\n\\n\\n\\t\\t\\t\\tResources for News Media\\t\\t\\t\\n\\n\\n\\n\\n\\n\\n \\n\\n\\n\\n\\n\\nCommunications Policy\\n\\n\\nPolicy on the release of information to news and information media\\n\\n\\n\\n\\n\\n\\n\\n\\n\\n\\n\\n\\n\\n\\n\\n\\n\\n \\n\\n\\n\\n\\n\\nMedia Accreditation Policy\\n\\n\\nAgencywide media accreditation policy\\n\\n\\n\\n\\n\\n\\n\\n\\n\\n\\n\\n\\n\\n\\n\\n\\n\\n \\n\\n\\n\\n\\n\\nMedia Contacts\\n\\n\\nContact information for the newsroom, centers, and interview requests\\n\\n\\n\\n\\n\\n\\n\\n\\n\\n\\n\\n\\n\\n\\n\\n\\n\\n \\n\\n\\n\\n\\n\\nUpcoming Launches\\n\\n\\nCalendar for upcoming launches and landings\\n\\n\\n\\n\\n\\n\\n\\n\\n\\n\\n\\n\\n\\n\\n\\n\\n\\n \\n\\n\\n\\n\\n\\nImages \\n\\n\\nImages from programs throughout the agency's history\\n\\n\\n\\n\\n\\n\\n\\n\\n\\n\\n\\n\\n\\n\\n\\n\\n\\n \\n\\n\\n\\n\\n\\nNASA Brand Center\\n\\n\\nSpecific guidelines for use of the agency's brand, merchandise, and media\\n\\n\\n\\n\\n\\n\\n\\n\\n\\n\\n\\n\\n\\n\\n\\n\\n\\n \\n\\n\\n\\n\\n\\nBudgets and Reports\\n\\n\\nBudgets, plans, and reports \\n\\n\\n\\n\\n\\n\\n\\n\\n\\n\\n\\n\\n\\n\\n\\n\\n\\n \\n\\n\\n\\n\\n\\nNews Release Archive\\n\\n\\nNews releases from 2015 to the present\\n\\n\\n\\n\\n\\n\\n\\n\\n\\n\\n\\n\\n\\n\\n \\n\\n\\nKeep Exploring\\nDiscover More\\n\\n\\n\\n\\n\\n\\n\\n\\n2024 News Releases\\n\\n\\n\\n\\n \\n\\n\\n\\n\\n\\n\\nBlogs\\n\\n\\n\\n\\n \\n\\n\\n\\n\\n\\n\\nNewsletters\\n\\n\\n\\n\\n \\n\\n\\n\\n\\n\\n\\nNASA History\",\n",
       "  'published': datetime.datetime(2022, 12, 7, 13, 25, 24, tzinfo=tzoffset(None, -18000)),\n",
       "  'source': 'www.nasa.gov',\n",
       "  'hash': 'b4ff3ec3260a3128d7f75d71438dd219'},\n",
       " {'title': 'NASA News',\n",
       "  'url': 'https://www.nasa.gov/news',\n",
       "  'content': \"News and EventsLatest NewsBlogsNewslettersSocial MediaBudgets and ReportsUpcoming LaunchesMoreMedia Contacts\\n\\n\\n\\n\\nNASA News\\n\\n\\n\\n\\n\\n\\n\\n\\n\\n\\n\\n\\n\\n\\n\\n\\n\\n\\n\\n\\n\\n\\n\\n\\n\\n \\n\\n\\nLatest News \\n\\n\\n\\n\\n\\t\\t\\t\\t2025 News Releases                \\t\\t\\t\\n\\n\\n\\n\\n News Release3 Min ReadNASA Presses Forward Search for VIPER Moon Rover Partner News Release3 Min ReadNASA to Talk Science, Tech Aboard Next Intuitive Machines Moon Flight News Release2 Min ReadNASA Invites Media to Discuss PUNCH Mission to Study Solar Wind News Release4 Min ReadNASA, Partners to Welcome Fourth Axiom Space Mission to Space Station \\n\\nSign up to receive NASA news releases and other information.\\n \\n\\n\\n\\t\\t\\t\\tResources for News Media\\t\\t\\t\\n\\n\\n\\n\\n\\n\\n \\n\\n\\n\\n\\n\\nCommunications Policy\\n\\n\\nPolicy on the release of information to news and information media\\n\\n\\n\\n\\n\\n\\n\\n\\n\\n\\n\\n\\n\\n\\n\\n\\n\\n \\n\\n\\n\\n\\n\\nMedia Accreditation Policy\\n\\n\\nAgencywide media accreditation policy\\n\\n\\n\\n\\n\\n\\n\\n\\n\\n\\n\\n\\n\\n\\n\\n\\n\\n \\n\\n\\n\\n\\n\\nMedia Contacts\\n\\n\\nContact information for the newsroom, centers, and interview requests\\n\\n\\n\\n\\n\\n\\n\\n\\n\\n\\n\\n\\n\\n\\n\\n\\n\\n \\n\\n\\n\\n\\n\\nUpcoming Launches\\n\\n\\nCalendar for upcoming launches and landings\\n\\n\\n\\n\\n\\n\\n\\n\\n\\n\\n\\n\\n\\n\\n\\n\\n\\n \\n\\n\\n\\n\\n\\nImages \\n\\n\\nImages from programs throughout the agency's history\\n\\n\\n\\n\\n\\n\\n\\n\\n\\n\\n\\n\\n\\n\\n\\n\\n\\n \\n\\n\\n\\n\\n\\nNASA Brand Center\\n\\n\\nSpecific guidelines for use of the agency's brand, merchandise, and media\\n\\n\\n\\n\\n\\n\\n\\n\\n\\n\\n\\n\\n\\n\\n\\n\\n\\n \\n\\n\\n\\n\\n\\nBudgets and Reports\\n\\n\\nBudgets, plans, and reports \\n\\n\\n\\n\\n\\n\\n\\n\\n\\n\\n\\n\\n\\n\\n\\n\\n\\n \\n\\n\\n\\n\\n\\nNews Release Archive\\n\\n\\nNews releases from 2015 to the present\\n\\n\\n\\n\\n\\n\\n\\n\\n\\n\\n\\n\\n\\n\\n \\n\\n\\nKeep Exploring\\nDiscover More\\n\\n\\n\\n\\n\\n\\n\\n\\n2024 News Releases\\n\\n\\n\\n\\n \\n\\n\\n\\n\\n\\n\\nBlogs\\n\\n\\n\\n\\n \\n\\n\\n\\n\\n\\n\\nNewsletters\\n\\n\\n\\n\\n \\n\\n\\n\\n\\n\\n\\nNASA History\",\n",
       "  'published': datetime.datetime(2022, 12, 7, 13, 25, 24, tzinfo=tzoffset(None, -18000)),\n",
       "  'source': 'www.nasa.gov',\n",
       "  'hash': 'b4ff3ec3260a3128d7f75d71438dd219'}]"
      ]
     },
     "execution_count": 58,
     "metadata": {},
     "output_type": "execute_result"
    }
   ],
   "source": [
    "articles"
   ]
  },
  {
   "cell_type": "code",
   "execution_count": null,
   "metadata": {},
   "outputs": [],
   "source": []
  }
 ],
 "metadata": {
  "kernelspec": {
   "display_name": "cia",
   "language": "python",
   "name": "python3"
  },
  "language_info": {
   "codemirror_mode": {
    "name": "ipython",
    "version": 3
   },
   "file_extension": ".py",
   "mimetype": "text/x-python",
   "name": "python",
   "nbconvert_exporter": "python",
   "pygments_lexer": "ipython3",
   "version": "3.13.1"
  }
 },
 "nbformat": 4,
 "nbformat_minor": 2
}
